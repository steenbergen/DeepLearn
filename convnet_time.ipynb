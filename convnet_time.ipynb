{
  "nbformat": 4,
  "nbformat_minor": 0,
  "metadata": {
    "colab": {
      "provenance": [],
      "authorship_tag": "ABX9TyOtogPmkfzui6Itiun7s5Tb",
      "include_colab_link": true
    },
    "kernelspec": {
      "name": "python3",
      "display_name": "Python 3"
    },
    "language_info": {
      "name": "python"
    }
  },
  "cells": [
    {
      "cell_type": "markdown",
      "metadata": {
        "id": "view-in-github",
        "colab_type": "text"
      },
      "source": [
        "<a href=\"https://colab.research.google.com/github/steenbergen/DeepLearn/blob/main/convnet_time.ipynb\" target=\"_parent\"><img src=\"https://colab.research.google.com/assets/colab-badge.svg\" alt=\"Open In Colab\"/></a>"
      ]
    },
    {
      "cell_type": "code",
      "execution_count": 1,
      "metadata": {
        "id": "KJ0-tmIwVeR-"
      },
      "outputs": [],
      "source": [
        "from numpy import array\n",
        "from tensorflow import keras\n",
        "from tensorflow.keras import layers"
      ]
    },
    {
      "cell_type": "code",
      "source": [
        "def split_sequence(sequence,steps):\n",
        "  x, y = list(), list()\n",
        "  for start in range(len(sequence)):\n",
        "    end_index = start + steps\n",
        "    if end_index > len(sequence) - 1:\n",
        "      break\n",
        "    sequence_x, sequence_y = sequence[start : end_index], sequence[end_index]\n",
        "    x.append(sequence_x)\n",
        "    y.append(sequence_y)\n",
        "  return array(x), array(y)\n"
      ],
      "metadata": {
        "id": "9G-i3JENWAJe"
      },
      "execution_count": 2,
      "outputs": []
    },
    {
      "cell_type": "code",
      "source": [
        "raw_sequence = [100, 110, 120, 130, 140, 150, 160, 170, 180, 190]\n",
        "steps = 3\n",
        "x, y = split_sequence(raw_sequence, steps)\n",
        "print(x)\n",
        "print(y)"
      ],
      "metadata": {
        "colab": {
          "base_uri": "https://localhost:8080/"
        },
        "id": "rBRGL0GqWt1K",
        "outputId": "0297ce01-a3d4-4dc0-bd3c-c02ecaf2ce31"
      },
      "execution_count": 3,
      "outputs": [
        {
          "output_type": "stream",
          "name": "stdout",
          "text": [
            "[[100 110 120]\n",
            " [110 120 130]\n",
            " [120 130 140]\n",
            " [130 140 150]\n",
            " [140 150 160]\n",
            " [150 160 170]\n",
            " [160 170 180]]\n",
            "[130 140 150 160 170 180 190]\n"
          ]
        }
      ]
    },
    {
      "cell_type": "code",
      "source": [
        "features = 1\n",
        "x = x.reshape(x.shape[0], x.shape[1], features)\n",
        "x.shape"
      ],
      "metadata": {
        "colab": {
          "base_uri": "https://localhost:8080/"
        },
        "id": "fzsK3U-7XL0c",
        "outputId": "8da8e139-6dfe-4ed2-a1b5-8a44523ab60c"
      },
      "execution_count": 4,
      "outputs": [
        {
          "output_type": "execute_result",
          "data": {
            "text/plain": [
              "(7, 3, 1)"
            ]
          },
          "metadata": {},
          "execution_count": 4
        }
      ]
    },
    {
      "cell_type": "code",
      "source": [
        "input_shape = (steps, features)\n",
        "model = keras.Sequential(\n",
        "    [keras.Input(shape = input_shape),\n",
        "     layers.Conv1D(filters = 64, kernel_size = 2, activation = \"relu\"),\n",
        "     layers.MaxPooling1D(pool_size = 2),\n",
        "     layers.Flatten(),\n",
        "     layers.Dense(1)]\n",
        ")\n",
        "model.summary()"
      ],
      "metadata": {
        "colab": {
          "base_uri": "https://localhost:8080/"
        },
        "id": "eln8VMTYXgMG",
        "outputId": "51607ee9-87a7-4422-c3e7-5013028af24a"
      },
      "execution_count": 9,
      "outputs": [
        {
          "output_type": "stream",
          "name": "stdout",
          "text": [
            "Model: \"sequential_1\"\n",
            "_________________________________________________________________\n",
            " Layer (type)                Output Shape              Param #   \n",
            "=================================================================\n",
            " conv1d_2 (Conv1D)           (None, 2, 64)             192       \n",
            "                                                                 \n",
            " max_pooling1d_2 (MaxPooling  (None, 1, 64)            0         \n",
            " 1D)                                                             \n",
            "                                                                 \n",
            " flatten_2 (Flatten)         (None, 64)                0         \n",
            "                                                                 \n",
            " dense_2 (Dense)             (None, 1)                 65        \n",
            "                                                                 \n",
            "=================================================================\n",
            "Total params: 257\n",
            "Trainable params: 257\n",
            "Non-trainable params: 0\n",
            "_________________________________________________________________\n"
          ]
        }
      ]
    },
    {
      "cell_type": "code",
      "source": [
        "model.compile(optimizer = \"adam\", loss = \"mse\")\n",
        "model.fit(x, y, epochs = 100)"
      ],
      "metadata": {
        "colab": {
          "base_uri": "https://localhost:8080/"
        },
        "id": "FJTtwRyKZWOF",
        "outputId": "a309c112-237a-4184-cee3-144418e2d7e9"
      },
      "execution_count": 10,
      "outputs": [
        {
          "output_type": "stream",
          "name": "stdout",
          "text": [
            "Epoch 1/100\n",
            "1/1 [==============================] - 1s 977ms/step - loss: 21634.9336\n",
            "Epoch 2/100\n",
            "1/1 [==============================] - 0s 13ms/step - loss: 21030.9258\n",
            "Epoch 3/100\n",
            "1/1 [==============================] - 0s 10ms/step - loss: 20434.8652\n",
            "Epoch 4/100\n",
            "1/1 [==============================] - 0s 10ms/step - loss: 19846.9180\n",
            "Epoch 5/100\n",
            "1/1 [==============================] - 0s 13ms/step - loss: 19267.2441\n",
            "Epoch 6/100\n",
            "1/1 [==============================] - 0s 9ms/step - loss: 18695.9883\n",
            "Epoch 7/100\n",
            "1/1 [==============================] - 0s 17ms/step - loss: 18133.2871\n",
            "Epoch 8/100\n",
            "1/1 [==============================] - 0s 13ms/step - loss: 17579.2715\n",
            "Epoch 9/100\n",
            "1/1 [==============================] - 0s 11ms/step - loss: 17034.0527\n",
            "Epoch 10/100\n",
            "1/1 [==============================] - 0s 15ms/step - loss: 16499.6836\n",
            "Epoch 11/100\n",
            "1/1 [==============================] - 0s 11ms/step - loss: 15979.0918\n",
            "Epoch 12/100\n",
            "1/1 [==============================] - 0s 11ms/step - loss: 15476.0879\n",
            "Epoch 13/100\n",
            "1/1 [==============================] - 0s 13ms/step - loss: 14984.6299\n",
            "Epoch 14/100\n",
            "1/1 [==============================] - 0s 11ms/step - loss: 14501.6074\n",
            "Epoch 15/100\n",
            "1/1 [==============================] - 0s 10ms/step - loss: 14027.0859\n",
            "Epoch 16/100\n",
            "1/1 [==============================] - 0s 10ms/step - loss: 13561.1240\n",
            "Epoch 17/100\n",
            "1/1 [==============================] - 0s 10ms/step - loss: 13103.7705\n",
            "Epoch 18/100\n",
            "1/1 [==============================] - 0s 12ms/step - loss: 12655.0703\n",
            "Epoch 19/100\n",
            "1/1 [==============================] - 0s 10ms/step - loss: 12215.0801\n",
            "Epoch 20/100\n",
            "1/1 [==============================] - 0s 11ms/step - loss: 11784.1240\n",
            "Epoch 21/100\n",
            "1/1 [==============================] - 0s 10ms/step - loss: 11374.1338\n",
            "Epoch 22/100\n",
            "1/1 [==============================] - 0s 15ms/step - loss: 10975.8076\n",
            "Epoch 23/100\n",
            "1/1 [==============================] - 0s 11ms/step - loss: 10585.5020\n",
            "Epoch 24/100\n",
            "1/1 [==============================] - 0s 10ms/step - loss: 10203.2295\n",
            "Epoch 25/100\n",
            "1/1 [==============================] - 0s 10ms/step - loss: 9828.9971\n",
            "Epoch 26/100\n",
            "1/1 [==============================] - 0s 10ms/step - loss: 9463.4785\n",
            "Epoch 27/100\n",
            "1/1 [==============================] - 0s 12ms/step - loss: 9107.1143\n",
            "Epoch 28/100\n",
            "1/1 [==============================] - 0s 15ms/step - loss: 8759.3379\n",
            "Epoch 29/100\n",
            "1/1 [==============================] - 0s 14ms/step - loss: 8419.8213\n",
            "Epoch 30/100\n",
            "1/1 [==============================] - 0s 10ms/step - loss: 8088.3877\n",
            "Epoch 31/100\n",
            "1/1 [==============================] - 0s 10ms/step - loss: 7764.8867\n",
            "Epoch 32/100\n",
            "1/1 [==============================] - 0s 10ms/step - loss: 7449.2119\n",
            "Epoch 33/100\n",
            "1/1 [==============================] - 0s 10ms/step - loss: 7141.3491\n",
            "Epoch 34/100\n",
            "1/1 [==============================] - 0s 10ms/step - loss: 6841.2822\n",
            "Epoch 35/100\n",
            "1/1 [==============================] - 0s 10ms/step - loss: 6548.9946\n",
            "Epoch 36/100\n",
            "1/1 [==============================] - 0s 11ms/step - loss: 6264.4595\n",
            "Epoch 37/100\n",
            "1/1 [==============================] - 0s 10ms/step - loss: 5987.6528\n",
            "Epoch 38/100\n",
            "1/1 [==============================] - 0s 11ms/step - loss: 5718.5400\n",
            "Epoch 39/100\n",
            "1/1 [==============================] - 0s 11ms/step - loss: 5457.0884\n",
            "Epoch 40/100\n",
            "1/1 [==============================] - 0s 10ms/step - loss: 5203.2524\n",
            "Epoch 41/100\n",
            "1/1 [==============================] - 0s 10ms/step - loss: 4956.9922\n",
            "Epoch 42/100\n",
            "1/1 [==============================] - 0s 10ms/step - loss: 4718.2583\n",
            "Epoch 43/100\n",
            "1/1 [==============================] - 0s 10ms/step - loss: 4486.9946\n",
            "Epoch 44/100\n",
            "1/1 [==============================] - 0s 10ms/step - loss: 4263.1470\n",
            "Epoch 45/100\n",
            "1/1 [==============================] - 0s 11ms/step - loss: 4046.6492\n",
            "Epoch 46/100\n",
            "1/1 [==============================] - 0s 10ms/step - loss: 3837.4363\n",
            "Epoch 47/100\n",
            "1/1 [==============================] - 0s 10ms/step - loss: 3635.8423\n",
            "Epoch 48/100\n",
            "1/1 [==============================] - 0s 10ms/step - loss: 3441.4097\n",
            "Epoch 49/100\n",
            "1/1 [==============================] - 0s 10ms/step - loss: 3254.1074\n",
            "Epoch 50/100\n",
            "1/1 [==============================] - 0s 10ms/step - loss: 3076.2629\n",
            "Epoch 51/100\n",
            "1/1 [==============================] - 0s 10ms/step - loss: 2907.0603\n",
            "Epoch 52/100\n",
            "1/1 [==============================] - 0s 10ms/step - loss: 2745.0415\n",
            "Epoch 53/100\n",
            "1/1 [==============================] - 0s 10ms/step - loss: 2589.8247\n",
            "Epoch 54/100\n",
            "1/1 [==============================] - 0s 10ms/step - loss: 2440.9126\n",
            "Epoch 55/100\n",
            "1/1 [==============================] - 0s 11ms/step - loss: 2298.0027\n",
            "Epoch 56/100\n",
            "1/1 [==============================] - 0s 11ms/step - loss: 2160.9661\n",
            "Epoch 57/100\n",
            "1/1 [==============================] - 0s 11ms/step - loss: 2029.6975\n",
            "Epoch 58/100\n",
            "1/1 [==============================] - 0s 11ms/step - loss: 1904.0912\n",
            "Epoch 59/100\n",
            "1/1 [==============================] - 0s 10ms/step - loss: 1784.0360\n",
            "Epoch 60/100\n",
            "1/1 [==============================] - 0s 9ms/step - loss: 1669.4182\n",
            "Epoch 61/100\n",
            "1/1 [==============================] - 0s 9ms/step - loss: 1560.1219\n",
            "Epoch 62/100\n",
            "1/1 [==============================] - 0s 9ms/step - loss: 1456.0253\n",
            "Epoch 63/100\n",
            "1/1 [==============================] - 0s 9ms/step - loss: 1357.0055\n",
            "Epoch 64/100\n",
            "1/1 [==============================] - 0s 10ms/step - loss: 1262.9373\n",
            "Epoch 65/100\n",
            "1/1 [==============================] - 0s 9ms/step - loss: 1173.6901\n",
            "Epoch 66/100\n",
            "1/1 [==============================] - 0s 9ms/step - loss: 1089.1333\n",
            "Epoch 67/100\n",
            "1/1 [==============================] - 0s 9ms/step - loss: 1009.1314\n",
            "Epoch 68/100\n",
            "1/1 [==============================] - 0s 10ms/step - loss: 933.5483\n",
            "Epoch 69/100\n",
            "1/1 [==============================] - 0s 12ms/step - loss: 862.2462\n",
            "Epoch 70/100\n",
            "1/1 [==============================] - 0s 9ms/step - loss: 795.0845\n",
            "Epoch 71/100\n",
            "1/1 [==============================] - 0s 9ms/step - loss: 731.9209\n",
            "Epoch 72/100\n",
            "1/1 [==============================] - 0s 9ms/step - loss: 672.6134\n",
            "Epoch 73/100\n",
            "1/1 [==============================] - 0s 11ms/step - loss: 617.0182\n",
            "Epoch 74/100\n",
            "1/1 [==============================] - 0s 9ms/step - loss: 564.9912\n",
            "Epoch 75/100\n",
            "1/1 [==============================] - 0s 10ms/step - loss: 516.3876\n",
            "Epoch 76/100\n",
            "1/1 [==============================] - 0s 9ms/step - loss: 471.0638\n",
            "Epoch 77/100\n",
            "1/1 [==============================] - 0s 9ms/step - loss: 428.8755\n",
            "Epoch 78/100\n",
            "1/1 [==============================] - 0s 9ms/step - loss: 389.6810\n",
            "Epoch 79/100\n",
            "1/1 [==============================] - 0s 9ms/step - loss: 353.3499\n",
            "Epoch 80/100\n",
            "1/1 [==============================] - 0s 9ms/step - loss: 319.7360\n",
            "Epoch 81/100\n",
            "1/1 [==============================] - 0s 9ms/step - loss: 288.6982\n",
            "Epoch 82/100\n",
            "1/1 [==============================] - 0s 9ms/step - loss: 260.2029\n",
            "Epoch 83/100\n",
            "1/1 [==============================] - 0s 9ms/step - loss: 234.0621\n",
            "Epoch 84/100\n",
            "1/1 [==============================] - 0s 9ms/step - loss: 210.0747\n",
            "Epoch 85/100\n",
            "1/1 [==============================] - 0s 9ms/step - loss: 188.1042\n",
            "Epoch 86/100\n",
            "1/1 [==============================] - 0s 9ms/step - loss: 168.0279\n",
            "Epoch 87/100\n",
            "1/1 [==============================] - 0s 9ms/step - loss: 149.7265\n",
            "Epoch 88/100\n",
            "1/1 [==============================] - 0s 9ms/step - loss: 133.0849\n",
            "Epoch 89/100\n",
            "1/1 [==============================] - 0s 9ms/step - loss: 117.9916\n",
            "Epoch 90/100\n",
            "1/1 [==============================] - 0s 9ms/step - loss: 104.3389\n",
            "Epoch 91/100\n",
            "1/1 [==============================] - 0s 9ms/step - loss: 92.0237\n",
            "Epoch 92/100\n",
            "1/1 [==============================] - 0s 9ms/step - loss: 80.9469\n",
            "Epoch 93/100\n",
            "1/1 [==============================] - 0s 9ms/step - loss: 71.0140\n",
            "Epoch 94/100\n",
            "1/1 [==============================] - 0s 9ms/step - loss: 62.1349\n",
            "Epoch 95/100\n",
            "1/1 [==============================] - 0s 10ms/step - loss: 54.2234\n",
            "Epoch 96/100\n",
            "1/1 [==============================] - 0s 9ms/step - loss: 47.1984\n",
            "Epoch 97/100\n",
            "1/1 [==============================] - 0s 10ms/step - loss: 40.9829\n",
            "Epoch 98/100\n",
            "1/1 [==============================] - 0s 9ms/step - loss: 35.5047\n",
            "Epoch 99/100\n",
            "1/1 [==============================] - 0s 9ms/step - loss: 30.6957\n",
            "Epoch 100/100\n",
            "1/1 [==============================] - 0s 8ms/step - loss: 26.4917\n"
          ]
        },
        {
          "output_type": "execute_result",
          "data": {
            "text/plain": [
              "<keras.callbacks.History at 0x7c42bf925bd0>"
            ]
          },
          "metadata": {},
          "execution_count": 10
        }
      ]
    },
    {
      "cell_type": "code",
      "source": [
        "x_input = array([170, 180, 190])\n",
        "x_input = x_input.reshape(1, steps, features)\n",
        "y_pred = model.predict(x_input)\n",
        "print(y_pred)"
      ],
      "metadata": {
        "colab": {
          "base_uri": "https://localhost:8080/"
        },
        "id": "jCe-rFbvZmkq",
        "outputId": "538b92b3-0b6d-41ad-b95b-fbb2ec1c64aa"
      },
      "execution_count": 13,
      "outputs": [
        {
          "output_type": "stream",
          "name": "stdout",
          "text": [
            "1/1 [==============================] - 0s 116ms/step\n",
            "[[198.30017]]\n"
          ]
        }
      ]
    }
  ]
}