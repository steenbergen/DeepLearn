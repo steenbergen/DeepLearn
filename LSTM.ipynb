{
  "nbformat": 4,
  "nbformat_minor": 0,
  "metadata": {
    "colab": {
      "provenance": [],
      "authorship_tag": "ABX9TyP5jZfzECj/zpyuzaZT1Qev",
      "include_colab_link": true
    },
    "kernelspec": {
      "name": "python3",
      "display_name": "Python 3"
    },
    "language_info": {
      "name": "python"
    }
  },
  "cells": [
    {
      "cell_type": "markdown",
      "metadata": {
        "id": "view-in-github",
        "colab_type": "text"
      },
      "source": [
        "<a href=\"https://colab.research.google.com/github/steenbergen/DeepLearn/blob/main/LSTM.ipynb\" target=\"_parent\"><img src=\"https://colab.research.google.com/assets/colab-badge.svg\" alt=\"Open In Colab\"/></a>"
      ]
    },
    {
      "cell_type": "markdown",
      "source": [
        "# LSTM ECHO SEQUENCE PREDICTION\n",
        "Given a sequence of random integers, can we output the correct value at a time input step unspecified to the model. E.g., given [5,3,2] and a time step of 2, we would like to predict 3. We want exact prediction and thus make this a classification problem.\n",
        "\n",
        "## Helper Functions"
      ],
      "metadata": {
        "id": "J0DZKMM3G7x9"
      }
    },
    {
      "cell_type": "code",
      "execution_count": 1,
      "metadata": {
        "id": "0m3zW1dpG6en"
      },
      "outputs": [],
      "source": [
        "# Sequence generation\n",
        "# n_features gives the range of values\n",
        "def generate_sequence(length, n_features):\n",
        "  return [randint(0, n_features - 1) for _ in range(length)]\n",
        "\n"
      ]
    },
    {
      "cell_type": "code",
      "source": [
        "# One-hot encoding\n",
        "def one_hot_encode(sequence, n_features):\n",
        "  encoding = list()\n",
        "  for value in sequence:\n",
        "    vector = [0 for _ in range(n_features)]\n",
        "    vector[value] = 1\n",
        "    encoding.append(vector)\n",
        "  return array(encoding)"
      ],
      "metadata": {
        "id": "YJ4OrYUgIeXy"
      },
      "execution_count": 2,
      "outputs": []
    },
    {
      "cell_type": "code",
      "source": [
        "# Decode one-hot encoded strings for prediction\n",
        "def one_hot_decode(encoded_seq):\n",
        "  return [argmax(vector) for vector in encoded_seq]"
      ],
      "metadata": {
        "id": "C6KaD06IJBL7"
      },
      "execution_count": 3,
      "outputs": []
    },
    {
      "cell_type": "code",
      "source": [
        "# Meta-function generating the inputs and outputs as they should be\n",
        "# Out-index is the time step\n",
        "def generate_example(length, n_features, out_index):\n",
        "  sequence = generate_sequence(length, n_features)\n",
        "  encoded = one_hot_encode(sequence, n_features)\n",
        "  X = encoded.reshape((1, length, n_features))\n",
        "  y = encoded[out_index].reshape(1, n_features)\n",
        "  return X, y"
      ],
      "metadata": {
        "id": "cBC7f1sKLie8"
      },
      "execution_count": 17,
      "outputs": []
    },
    {
      "cell_type": "markdown",
      "source": [
        "# Data Generation"
      ],
      "metadata": {
        "id": "4Gu2o_UuJXHE"
      }
    },
    {
      "cell_type": "code",
      "source": [
        "from random import randint\n",
        "from numpy import array\n",
        "from numpy import argmax\n",
        "\n",
        "X, y = generate_example(25, 100, 2)\n",
        "print(X.shape)\n",
        "print(y.shape)"
      ],
      "metadata": {
        "colab": {
          "base_uri": "https://localhost:8080/"
        },
        "id": "wyBlXqEQJa94",
        "outputId": "976677a7-7725-44b4-8698-1ff43de4e903"
      },
      "execution_count": 30,
      "outputs": [
        {
          "output_type": "stream",
          "name": "stdout",
          "text": [
            "(1, 25, 100)\n",
            "(1, 100)\n"
          ]
        }
      ]
    },
    {
      "cell_type": "markdown",
      "source": [
        "# Model"
      ],
      "metadata": {
        "id": "OKub37LiNHnw"
      }
    },
    {
      "cell_type": "code",
      "source": [
        "from tensorflow import keras\n",
        "from tensorflow.keras import layers\n",
        "model = keras.Sequential([\n",
        "    layers.LSTM(25, input_shape = (25,100)),\n",
        "    layers.Dense(100, activation = \"softmax\")\n",
        "])\n",
        "model.compile(loss = \"categorical_crossentropy\",\n",
        "              optimizer = \"adam\",\n",
        "              metrics = [\"accuracy\"])\n",
        "model.summary()"
      ],
      "metadata": {
        "colab": {
          "base_uri": "https://localhost:8080/"
        },
        "id": "F-SbsxLONJUT",
        "outputId": "01782a6c-14aa-40d5-f9e2-b197657ac1fc"
      },
      "execution_count": 32,
      "outputs": [
        {
          "output_type": "stream",
          "name": "stdout",
          "text": [
            "Model: \"sequential_5\"\n",
            "_________________________________________________________________\n",
            " Layer (type)                Output Shape              Param #   \n",
            "=================================================================\n",
            " lstm_2 (LSTM)               (None, 25)                12600     \n",
            "                                                                 \n",
            " dense_2 (Dense)             (None, 100)               2600      \n",
            "                                                                 \n",
            "=================================================================\n",
            "Total params: 15,200\n",
            "Trainable params: 15,200\n",
            "Non-trainable params: 0\n",
            "_________________________________________________________________\n"
          ]
        }
      ]
    },
    {
      "cell_type": "code",
      "source": [
        "model.fit(X, y, epochs = 25)"
      ],
      "metadata": {
        "colab": {
          "base_uri": "https://localhost:8080/"
        },
        "id": "jhEGnRGIQRhl",
        "outputId": "afee30c8-f17a-491f-8478-997d99300237"
      },
      "execution_count": 34,
      "outputs": [
        {
          "output_type": "stream",
          "name": "stdout",
          "text": [
            "Epoch 1/25\n",
            "1/1 [==============================] - 0s 22ms/step - loss: 4.5428 - accuracy: 0.0000e+00\n",
            "Epoch 2/25\n",
            "1/1 [==============================] - 0s 19ms/step - loss: 4.5321 - accuracy: 0.0000e+00\n",
            "Epoch 3/25\n",
            "1/1 [==============================] - 0s 19ms/step - loss: 4.5212 - accuracy: 1.0000\n",
            "Epoch 4/25\n",
            "1/1 [==============================] - 0s 18ms/step - loss: 4.5102 - accuracy: 1.0000\n",
            "Epoch 5/25\n",
            "1/1 [==============================] - 0s 18ms/step - loss: 4.4990 - accuracy: 1.0000\n",
            "Epoch 6/25\n",
            "1/1 [==============================] - 0s 20ms/step - loss: 4.4875 - accuracy: 1.0000\n",
            "Epoch 7/25\n",
            "1/1 [==============================] - 0s 21ms/step - loss: 4.4757 - accuracy: 1.0000\n",
            "Epoch 8/25\n",
            "1/1 [==============================] - 0s 20ms/step - loss: 4.4635 - accuracy: 1.0000\n",
            "Epoch 9/25\n",
            "1/1 [==============================] - 0s 18ms/step - loss: 4.4507 - accuracy: 1.0000\n",
            "Epoch 10/25\n",
            "1/1 [==============================] - 0s 20ms/step - loss: 4.4373 - accuracy: 1.0000\n",
            "Epoch 11/25\n",
            "1/1 [==============================] - 0s 17ms/step - loss: 4.4230 - accuracy: 1.0000\n",
            "Epoch 12/25\n",
            "1/1 [==============================] - 0s 17ms/step - loss: 4.4079 - accuracy: 1.0000\n",
            "Epoch 13/25\n",
            "1/1 [==============================] - 0s 21ms/step - loss: 4.3916 - accuracy: 1.0000\n",
            "Epoch 14/25\n",
            "1/1 [==============================] - 0s 18ms/step - loss: 4.3740 - accuracy: 1.0000\n",
            "Epoch 15/25\n",
            "1/1 [==============================] - 0s 18ms/step - loss: 4.3550 - accuracy: 1.0000\n",
            "Epoch 16/25\n",
            "1/1 [==============================] - 0s 19ms/step - loss: 4.3341 - accuracy: 1.0000\n",
            "Epoch 17/25\n",
            "1/1 [==============================] - 0s 18ms/step - loss: 4.3112 - accuracy: 1.0000\n",
            "Epoch 18/25\n",
            "1/1 [==============================] - 0s 16ms/step - loss: 4.2858 - accuracy: 1.0000\n",
            "Epoch 19/25\n",
            "1/1 [==============================] - 0s 18ms/step - loss: 4.2576 - accuracy: 1.0000\n",
            "Epoch 20/25\n",
            "1/1 [==============================] - 0s 21ms/step - loss: 4.2260 - accuracy: 1.0000\n",
            "Epoch 21/25\n",
            "1/1 [==============================] - 0s 17ms/step - loss: 4.1906 - accuracy: 1.0000\n",
            "Epoch 22/25\n",
            "1/1 [==============================] - 0s 22ms/step - loss: 4.1506 - accuracy: 1.0000\n",
            "Epoch 23/25\n",
            "1/1 [==============================] - 0s 19ms/step - loss: 4.1052 - accuracy: 1.0000\n",
            "Epoch 24/25\n",
            "1/1 [==============================] - 0s 19ms/step - loss: 4.0536 - accuracy: 1.0000\n",
            "Epoch 25/25\n",
            "1/1 [==============================] - 0s 18ms/step - loss: 3.9948 - accuracy: 1.0000\n"
          ]
        },
        {
          "output_type": "execute_result",
          "data": {
            "text/plain": [
              "<keras.callbacks.History at 0x7d814d4f5660>"
            ]
          },
          "metadata": {},
          "execution_count": 34
        }
      ]
    }
  ]
}