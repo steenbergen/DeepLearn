{
  "nbformat": 4,
  "nbformat_minor": 0,
  "metadata": {
    "colab": {
      "provenance": [],
      "authorship_tag": "ABX9TyPO6KHiSWpQvhsfGJsEwmGe",
      "include_colab_link": true
    },
    "kernelspec": {
      "name": "python3",
      "display_name": "Python 3"
    },
    "language_info": {
      "name": "python"
    }
  },
  "cells": [
    {
      "cell_type": "markdown",
      "metadata": {
        "id": "view-in-github",
        "colab_type": "text"
      },
      "source": [
        "<a href=\"https://colab.research.google.com/github/steenbergen/DeepLearn/blob/main/LSTM.ipynb\" target=\"_parent\"><img src=\"https://colab.research.google.com/assets/colab-badge.svg\" alt=\"Open In Colab\"/></a>"
      ]
    },
    {
      "cell_type": "markdown",
      "source": [
        "# LSTM ECHO SEQUENCE PREDICTION\n",
        "Given a sequence of random integers, can we output the correct value at a time input step unspecified to the model. E.g., given [5,3,2] and a time step of 2, we would like to predict 3. We want exact prediction and thus make this a classification problem.\n",
        "\n",
        "## Helper Functions"
      ],
      "metadata": {
        "id": "J0DZKMM3G7x9"
      }
    },
    {
      "cell_type": "code",
      "execution_count": 1,
      "metadata": {
        "id": "0m3zW1dpG6en"
      },
      "outputs": [],
      "source": [
        "# Sequence generation\n",
        "# n_features gives the range of values\n",
        "def generate_sequence(length, n_features):\n",
        "  return [randint(0, n_features - 1) for _ in range(length)]\n",
        "\n"
      ]
    },
    {
      "cell_type": "code",
      "source": [
        "# One-hot encoding\n",
        "def one_hot_encode(sequence, n_features):\n",
        "  encoding = list()\n",
        "  for value in sequence:\n",
        "    vector = [0 for _ in range(n_features)]\n",
        "    vector[value] = 1\n",
        "    encoding.append(vector)\n",
        "  return array(encoding)"
      ],
      "metadata": {
        "id": "YJ4OrYUgIeXy"
      },
      "execution_count": 2,
      "outputs": []
    },
    {
      "cell_type": "code",
      "source": [
        "# Decode one-hot encoded strings for prediction\n",
        "def one_hot_decode(encoded_seq):\n",
        "  return [argmax(vector) for vector in encoded_seq]"
      ],
      "metadata": {
        "id": "C6KaD06IJBL7"
      },
      "execution_count": 3,
      "outputs": []
    },
    {
      "cell_type": "code",
      "source": [
        "# Meta-function generating the inputs and outputs as they should be\n",
        "# Out-index is the time step\n",
        "def generate_example(length, n_features, out_index):\n",
        "  sequence = generate_sequence(length, n_features)\n",
        "  encoded = one_hot_encode(sequence, n_features)\n",
        "  X = encoded.reshape((1, length, n_features))\n",
        "  y = encoded[out_index].reshape(1, n_features)\n",
        "  return X, y"
      ],
      "metadata": {
        "id": "cBC7f1sKLie8"
      },
      "execution_count": 17,
      "outputs": []
    },
    {
      "cell_type": "markdown",
      "source": [
        "# Data Generation"
      ],
      "metadata": {
        "id": "4Gu2o_UuJXHE"
      }
    },
    {
      "cell_type": "code",
      "source": [
        "from random import randint\n",
        "from numpy import array\n",
        "from numpy import argmax\n",
        "\n",
        "X, y = generate_example(5, 10, 2)\n",
        "print(X.shape)\n",
        "print(y.shape)"
      ],
      "metadata": {
        "colab": {
          "base_uri": "https://localhost:8080/"
        },
        "id": "wyBlXqEQJa94",
        "outputId": "6efa7c00-8a59-4d8c-e484-967942796c14"
      },
      "execution_count": 20,
      "outputs": [
        {
          "output_type": "stream",
          "name": "stdout",
          "text": [
            "(1, 5, 10)\n",
            "(1, 10)\n"
          ]
        }
      ]
    },
    {
      "cell_type": "markdown",
      "source": [
        "# Model"
      ],
      "metadata": {
        "id": "OKub37LiNHnw"
      }
    },
    {
      "cell_type": "code",
      "source": [
        "import"
      ],
      "metadata": {
        "id": "F-SbsxLONJUT"
      },
      "execution_count": null,
      "outputs": []
    }
  ]
}