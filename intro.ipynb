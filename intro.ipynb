{
  "nbformat": 4,
  "nbformat_minor": 0,
  "metadata": {
    "colab": {
      "provenance": [],
      "toc_visible": true,
      "authorship_tag": "ABX9TyMQNT4qsaELtwqSnsoIvasJ",
      "include_colab_link": true
    },
    "kernelspec": {
      "name": "python3",
      "display_name": "Python 3"
    },
    "language_info": {
      "name": "python"
    }
  },
  "cells": [
    {
      "cell_type": "markdown",
      "metadata": {
        "id": "view-in-github",
        "colab_type": "text"
      },
      "source": [
        "<a href=\"https://colab.research.google.com/github/steenbergen/DeepLearn/blob/main/intro.ipynb\" target=\"_parent\"><img src=\"https://colab.research.google.com/assets/colab-badge.svg\" alt=\"Open In Colab\"/></a>"
      ]
    },
    {
      "cell_type": "code",
      "execution_count": 1,
      "metadata": {
        "colab": {
          "base_uri": "https://localhost:8080/"
        },
        "id": "D2eVWDD49x29",
        "outputId": "36a00e8e-8f9d-4d37-fd27-941e7130191c"
      },
      "outputs": [
        {
          "output_type": "stream",
          "name": "stdout",
          "text": [
            "Hello World\n"
          ]
        }
      ],
      "source": [
        "print(\"Hello World\")"
      ]
    },
    {
      "cell_type": "markdown",
      "source": [
        "# Variables\n",
        "How to define, input, and output variables. Variable types."
      ],
      "metadata": {
        "id": "ULsAt9xO-cTk"
      }
    },
    {
      "cell_type": "code",
      "source": [
        "age = 18\n",
        "print(age)"
      ],
      "metadata": {
        "colab": {
          "base_uri": "https://localhost:8080/"
        },
        "id": "TNKPxiaC-Lsz",
        "outputId": "a02d8f6c-b87b-4647-ec4e-375315b1db8e"
      },
      "execution_count": 2,
      "outputs": [
        {
          "output_type": "stream",
          "name": "stdout",
          "text": [
            "18\n"
          ]
        }
      ]
    },
    {
      "cell_type": "code",
      "source": [
        "age = 45\n",
        "salary = 70.50\n",
        "first_name = \"Fred\"\n",
        "is_self_employed = False\n",
        "print(is_self_employed)"
      ],
      "metadata": {
        "colab": {
          "base_uri": "https://localhost:8080/"
        },
        "id": "jVlZ2B6r_JVc",
        "outputId": "0661fab1-11e1-43b7-a37a-11741d59df1e"
      },
      "execution_count": 5,
      "outputs": [
        {
          "output_type": "stream",
          "name": "stdout",
          "text": [
            "False\n"
          ]
        }
      ]
    },
    {
      "cell_type": "code",
      "source": [
        "first_name = input(\"What is your first name? \")"
      ],
      "metadata": {
        "colab": {
          "base_uri": "https://localhost:8080/"
        },
        "id": "_bGnCYlDANvU",
        "outputId": "713408de-69c2-42e2-a4d9-65cd2076d57d"
      },
      "execution_count": 7,
      "outputs": [
        {
          "name": "stdout",
          "output_type": "stream",
          "text": [
            "What is your first name? Marco\n"
          ]
        }
      ]
    },
    {
      "cell_type": "code",
      "source": [
        "print(\"Hello \" + first_name)"
      ],
      "metadata": {
        "colab": {
          "base_uri": "https://localhost:8080/"
        },
        "id": "oLbhyXUbAcSU",
        "outputId": "7000bb15-a288-4f19-80c0-115bd797d1e0"
      },
      "execution_count": 8,
      "outputs": [
        {
          "output_type": "stream",
          "name": "stdout",
          "text": [
            "Hello Marco\n"
          ]
        }
      ]
    },
    {
      "cell_type": "markdown",
      "source": [
        "The **input** function stores a string."
      ],
      "metadata": {
        "id": "Uk6W3i-iDx7Z"
      }
    },
    {
      "cell_type": "markdown",
      "source": [
        "# Type Conversion\n",
        "How to convert between variable types. There are three types of variables: (1) numbers; (2) strings; and (3) Booleans."
      ],
      "metadata": {
        "id": "6qOuMl19BMVg"
      }
    },
    {
      "cell_type": "code",
      "source": [
        "# Example of a number\n",
        "price = 299.99\n",
        "print(price)"
      ],
      "metadata": {
        "colab": {
          "base_uri": "https://localhost:8080/"
        },
        "id": "EGn9WyN8BR2Y",
        "outputId": "cc7f61f3-5c5a-452e-f212-26682563149c"
      },
      "execution_count": 11,
      "outputs": [
        {
          "output_type": "stream",
          "name": "stdout",
          "text": [
            "299.99\n"
          ]
        }
      ]
    },
    {
      "cell_type": "code",
      "source": [
        "# Example of a string\n",
        "last_name = \"Smith\"\n",
        "print(last_name)"
      ],
      "metadata": {
        "colab": {
          "base_uri": "https://localhost:8080/"
        },
        "id": "UacFbF9QCA8v",
        "outputId": "06161288-03e7-4792-dc4c-0f21d9d3bfa3"
      },
      "execution_count": 12,
      "outputs": [
        {
          "output_type": "stream",
          "name": "stdout",
          "text": [
            "Smith\n"
          ]
        }
      ]
    },
    {
      "cell_type": "code",
      "source": [
        "# Example of a Boolean\n",
        "is_defunct = True\n",
        "print(is_defunct)"
      ],
      "metadata": {
        "colab": {
          "base_uri": "https://localhost:8080/"
        },
        "id": "0BsC2BtzCIpG",
        "outputId": "52552a60-1bad-40a9-eb5d-f6fdd3974663"
      },
      "execution_count": 19,
      "outputs": [
        {
          "output_type": "stream",
          "name": "stdout",
          "text": [
            "True\n"
          ]
        }
      ]
    },
    {
      "cell_type": "code",
      "source": [
        "birth_year = input(\"Enter your birth year: \")\n",
        "# If we want age, we could try age = 2023 - birth_year, but that fails.\n",
        "# the reason is that input stores a string and a number minus a string is\n",
        "# uninterpretable to Python. Hence, we need a type conversion.\n",
        "birth_year = int(birth_year)\n",
        "age = 2023 - birth_year\n",
        "print(age)"
      ],
      "metadata": {
        "colab": {
          "base_uri": "https://localhost:8080/"
        },
        "id": "KUvrvCJ9DKn3",
        "outputId": "69a12d92-4523-47c3-b79c-5c0d1a73639d"
      },
      "execution_count": 21,
      "outputs": [
        {
          "output_type": "stream",
          "name": "stdout",
          "text": [
            "enter your birth year: 1963\n",
            "60\n"
          ]
        }
      ]
    },
    {
      "cell_type": "code",
      "source": [
        "# More elegant,perhaps.\n",
        "birth_year = int(input(\"Enter your birth year: \"))\n",
        "age = 2023 - birth_year\n",
        "print(age)\n",
        "# or\n",
        "birth_year = input(\"Enter your birth year: \")\n",
        "age = 2023 - int(birth_year)\n",
        "print(age)"
      ],
      "metadata": {
        "colab": {
          "base_uri": "https://localhost:8080/"
        },
        "id": "ek-j8ZaAEw67",
        "outputId": "e42bc486-d381-4a24-f754-2fd4eff0ccb5"
      },
      "execution_count": 23,
      "outputs": [
        {
          "output_type": "stream",
          "name": "stdout",
          "text": [
            "Enter your birth year: 1963\n",
            "60\n",
            "Enter your birth year: 1963\n",
            "60\n"
          ]
        }
      ]
    },
    {
      "cell_type": "markdown",
      "source": [],
      "metadata": {
        "id": "oQ6muyITGRCV"
      }
    },
    {
      "cell_type": "code",
      "source": [
        "# Other conversions include float(), bool(), and str()\n",
        "# Illustration with creating a calculator.\n",
        "# Python does not know how to concatenate a float and\n",
        "# a string, whence the conversion back in the print\n",
        "# statement.\n",
        "first = input(\"Enter the first number: \")\n",
        "second = input(\"Enter the second number: \")\n",
        "sum = float(first) + float(second)\n",
        "print(\"The sum is \" + str(sum))"
      ],
      "metadata": {
        "colab": {
          "base_uri": "https://localhost:8080/"
        },
        "id": "LeQBq1UyFinq",
        "outputId": "4ec92417-679e-4a3c-fa0e-414fe1ba96ae"
      },
      "execution_count": 26,
      "outputs": [
        {
          "output_type": "stream",
          "name": "stdout",
          "text": [
            "Enter the first number: 10.1\n",
            "Enter the second number: 29.9\n",
            "The sum is 40.0\n"
          ]
        }
      ]
    },
    {
      "cell_type": "markdown",
      "source": [
        "# Indices\n",
        "Indices in Python start with 0 and not with 1."
      ],
      "metadata": {
        "id": "_PT6cnP7I385"
      }
    },
    {
      "cell_type": "code",
      "source": [
        "numbers = [1, 2, 3, 4, 5]\n",
        "numbers.index(3)"
      ],
      "metadata": {
        "colab": {
          "base_uri": "https://localhost:8080/"
        },
        "id": "J3SlTydcJPUm",
        "outputId": "5d9d9a62-3bde-490e-ec45-bd99bdacc1ca"
      },
      "execution_count": 33,
      "outputs": [
        {
          "output_type": "execute_result",
          "data": {
            "text/plain": [
              "2"
            ]
          },
          "metadata": {},
          "execution_count": 33
        }
      ]
    },
    {
      "cell_type": "code",
      "source": [
        "print(\"The index of 3 is: \", numbers.index(3))"
      ],
      "metadata": {
        "colab": {
          "base_uri": "https://localhost:8080/"
        },
        "id": "0gVEI-iRJegU",
        "outputId": "b6835a3d-42ab-4937-f2d6-1d5f57424700"
      },
      "execution_count": 38,
      "outputs": [
        {
          "output_type": "stream",
          "name": "stdout",
          "text": [
            "The index of 3 is:  2\n"
          ]
        }
      ]
    },
    {
      "cell_type": "markdown",
      "source": [
        "# Strings\n",
        "Strings are objects with a series of capabities. We see how to deploy those using **course.** These are known as methods. They do not impact the original string."
      ],
      "metadata": {
        "id": "l53tH4PnHhMf"
      }
    },
    {
      "cell_type": "code",
      "source": [
        "course = \"Deep Learning 101\"\n",
        "print(course.upper())\n"
      ],
      "metadata": {
        "colab": {
          "base_uri": "https://localhost:8080/"
        },
        "id": "cWuk9QOuH0s7",
        "outputId": "9ffe5da2-0ced-4322-928e-deda23f55903"
      },
      "execution_count": 30,
      "outputs": [
        {
          "output_type": "stream",
          "name": "stdout",
          "text": [
            "DEEP LEARNING 101\n"
          ]
        }
      ]
    },
    {
      "cell_type": "code",
      "source": [
        "\n",
        "course.find(\"e\")"
      ],
      "metadata": {
        "colab": {
          "base_uri": "https://localhost:8080/"
        },
        "id": "peRKmsbeIuEZ",
        "outputId": "b66e4b37-45e4-4f7e-fc6d-0020148e1aa1"
      },
      "execution_count": 41,
      "outputs": [
        {
          "output_type": "execute_result",
          "data": {
            "text/plain": [
              "1"
            ]
          },
          "metadata": {},
          "execution_count": 41
        }
      ]
    },
    {
      "cell_type": "code",
      "source": [
        "# Python is case sensitive!\n",
        "course.find(\"d\")"
      ],
      "metadata": {
        "colab": {
          "base_uri": "https://localhost:8080/"
        },
        "id": "7ZSESEJZKmh7",
        "outputId": "6016e487-78dc-4de3-d40c-c724ed34e145"
      },
      "execution_count": 42,
      "outputs": [
        {
          "output_type": "execute_result",
          "data": {
            "text/plain": [
              "-1"
            ]
          },
          "metadata": {},
          "execution_count": 42
        }
      ]
    },
    {
      "cell_type": "code",
      "source": [
        "course.find(\"ea\")"
      ],
      "metadata": {
        "colab": {
          "base_uri": "https://localhost:8080/"
        },
        "id": "ApQrJgmNKq4z",
        "outputId": "18a26600-4257-4a54-cc22-4dc0bbfc6b66"
      },
      "execution_count": 44,
      "outputs": [
        {
          "output_type": "execute_result",
          "data": {
            "text/plain": [
              "6"
            ]
          },
          "metadata": {},
          "execution_count": 44
        }
      ]
    },
    {
      "cell_type": "code",
      "source": [
        "# The in-operator checks whether a character or word is in the string. E.g.,\n",
        "print(\"Deep\" in course)"
      ],
      "metadata": {
        "colab": {
          "base_uri": "https://localhost:8080/"
        },
        "id": "rDBx5WBBLLnn",
        "outputId": "8be4464b-885b-4492-ff15-c82fd3bd8509"
      },
      "execution_count": 45,
      "outputs": [
        {
          "output_type": "stream",
          "name": "stdout",
          "text": [
            "True\n"
          ]
        }
      ]
    },
    {
      "cell_type": "code",
      "source": [
        "first = \"John\"\n",
        "last = \"Smith\"\n",
        "msg = f'{first} {last} has an interest in deep learning'\n",
        "print(msg)\n"
      ],
      "metadata": {
        "colab": {
          "base_uri": "https://localhost:8080/"
        },
        "id": "wChc1h-0uV6B",
        "outputId": "e8b69b83-79f7-44e8-8c74-99f19f5e42e5"
      },
      "execution_count": 115,
      "outputs": [
        {
          "output_type": "stream",
          "name": "stdout",
          "text": [
            "John Smith has an interest in deep learning\n"
          ]
        }
      ]
    },
    {
      "cell_type": "markdown",
      "source": [
        "# Arithmetic and Mathematical Operators\n",
        "Arithmetic in Python is pretty straightforward."
      ],
      "metadata": {
        "id": "Vq_y0xbVLguo"
      }
    },
    {
      "cell_type": "code",
      "source": [
        "print(2 + 1)"
      ],
      "metadata": {
        "colab": {
          "base_uri": "https://localhost:8080/"
        },
        "id": "mDd9VIaSLk7R",
        "outputId": "30792571-3e84-4807-86c4-7adefd15f78f"
      },
      "execution_count": 49,
      "outputs": [
        {
          "output_type": "stream",
          "name": "stdout",
          "text": [
            "3\n"
          ]
        }
      ]
    },
    {
      "cell_type": "code",
      "source": [
        "print(2 - 1)"
      ],
      "metadata": {
        "colab": {
          "base_uri": "https://localhost:8080/"
        },
        "id": "-86mICeuL3jn",
        "outputId": "60c664e8-21c7-4262-abbf-a25d400dc75a"
      },
      "execution_count": 50,
      "outputs": [
        {
          "output_type": "stream",
          "name": "stdout",
          "text": [
            "1\n"
          ]
        }
      ]
    },
    {
      "cell_type": "code",
      "source": [
        "print(2 * 1)"
      ],
      "metadata": {
        "colab": {
          "base_uri": "https://localhost:8080/"
        },
        "id": "ftg-TDyML6Z4",
        "outputId": "eb4f8ecb-db78-412f-91dd-6f79a83ca695"
      },
      "execution_count": 51,
      "outputs": [
        {
          "output_type": "stream",
          "name": "stdout",
          "text": [
            "2\n"
          ]
        }
      ]
    },
    {
      "cell_type": "code",
      "source": [
        "# Dvision has two methods. The first one is well known.\n",
        "print(2 / 3)"
      ],
      "metadata": {
        "colab": {
          "base_uri": "https://localhost:8080/"
        },
        "id": "hSxmlX-ML9vw",
        "outputId": "c407825b-37fc-49a2-f3fd-40a1523bac49"
      },
      "execution_count": 53,
      "outputs": [
        {
          "output_type": "stream",
          "name": "stdout",
          "text": [
            "0.6666666666666666\n"
          ]
        }
      ]
    },
    {
      "cell_type": "code",
      "source": [
        "# The second one retains the leading digit.\n",
        "print (2 // 3)"
      ],
      "metadata": {
        "colab": {
          "base_uri": "https://localhost:8080/"
        },
        "id": "G6dzf30qMMFV",
        "outputId": "6fb00c1b-e8b1-4739-b5ff-d1c6962c9d56"
      },
      "execution_count": 54,
      "outputs": [
        {
          "output_type": "stream",
          "name": "stdout",
          "text": [
            "0\n"
          ]
        }
      ]
    },
    {
      "cell_type": "code",
      "source": [
        "# The modulus of a number is\n",
        "print(10 % 3)"
      ],
      "metadata": {
        "colab": {
          "base_uri": "https://localhost:8080/"
        },
        "id": "QdMZXIAAMZzz",
        "outputId": "064aa1a3-0e82-4dde-fce0-ccff232497a9"
      },
      "execution_count": 55,
      "outputs": [
        {
          "output_type": "stream",
          "name": "stdout",
          "text": [
            "1\n"
          ]
        }
      ]
    },
    {
      "cell_type": "code",
      "source": [
        "# Exponents are\n",
        "print(10 ** 2)"
      ],
      "metadata": {
        "colab": {
          "base_uri": "https://localhost:8080/"
        },
        "id": "TQcIFQo4MjSL",
        "outputId": "367cacc3-d333-42b7-a553-e9ee8c3f6214"
      },
      "execution_count": 57,
      "outputs": [
        {
          "output_type": "stream",
          "name": "stdout",
          "text": [
            "100\n"
          ]
        }
      ]
    },
    {
      "cell_type": "markdown",
      "source": [
        "The usual rules of operator precedence apply. Multiplication/division are evaluated before plus/minus. The use of parentheses can alter this."
      ],
      "metadata": {
        "id": "jCs6j7nyOUEr"
      }
    },
    {
      "cell_type": "code",
      "source": [
        "x = 10 + 3 * 2\n",
        "print(x)"
      ],
      "metadata": {
        "colab": {
          "base_uri": "https://localhost:8080/"
        },
        "id": "w0jhDSmZOqlu",
        "outputId": "05fe74b3-dcab-4815-d9b9-6485794a2dbb"
      },
      "execution_count": 66,
      "outputs": [
        {
          "output_type": "stream",
          "name": "stdout",
          "text": [
            "16\n"
          ]
        }
      ]
    },
    {
      "cell_type": "code",
      "source": [
        "x = (10 + 3) * 2\n",
        "print(x)"
      ],
      "metadata": {
        "colab": {
          "base_uri": "https://localhost:8080/"
        },
        "id": "ing3xU3hOvfY",
        "outputId": "f73e4c46-92ea-4c4b-bb34-597d50fa9302"
      },
      "execution_count": 67,
      "outputs": [
        {
          "output_type": "stream",
          "name": "stdout",
          "text": [
            "26\n"
          ]
        }
      ]
    },
    {
      "cell_type": "code",
      "source": [
        "x = 3.9\n",
        "print(round(x))"
      ],
      "metadata": {
        "colab": {
          "base_uri": "https://localhost:8080/"
        },
        "id": "uwCmUgTuvl_T",
        "outputId": "7d2339ef-021c-4a7b-d9dd-fc04ebaaea40"
      },
      "execution_count": 116,
      "outputs": [
        {
          "output_type": "stream",
          "name": "stdout",
          "text": [
            "4\n"
          ]
        }
      ]
    },
    {
      "cell_type": "code",
      "source": [
        "x = -3.9\n",
        "print(abs(x))"
      ],
      "metadata": {
        "colab": {
          "base_uri": "https://localhost:8080/"
        },
        "id": "u5ZdgWEqvs2b",
        "outputId": "5708885a-d1ef-4b7e-a4e5-0ea0d1256bb8"
      },
      "execution_count": 117,
      "outputs": [
        {
          "output_type": "stream",
          "name": "stdout",
          "text": [
            "3.9\n"
          ]
        }
      ]
    },
    {
      "cell_type": "markdown",
      "source": [
        "# Comparison Operators\n"
      ],
      "metadata": {
        "id": "lYFu5LvVO7np"
      }
    },
    {
      "cell_type": "code",
      "source": [
        "x = 3 > 2\n",
        "print(x)"
      ],
      "metadata": {
        "colab": {
          "base_uri": "https://localhost:8080/"
        },
        "id": "XrkpSd2CO_aI",
        "outputId": "463bc893-50d9-46c0-fcf3-284f85625352"
      },
      "execution_count": 68,
      "outputs": [
        {
          "output_type": "stream",
          "name": "stdout",
          "text": [
            "True\n"
          ]
        }
      ]
    },
    {
      "cell_type": "code",
      "source": [
        "x = 2 == 3\n",
        "print(x)"
      ],
      "metadata": {
        "colab": {
          "base_uri": "https://localhost:8080/"
        },
        "id": "dzv3vhV4POpI",
        "outputId": "6cb1b19b-f501-48b3-9980-8df323c3dd54"
      },
      "execution_count": 69,
      "outputs": [
        {
          "output_type": "stream",
          "name": "stdout",
          "text": [
            "False\n"
          ]
        }
      ]
    },
    {
      "cell_type": "code",
      "source": [
        "x = 2 != 3\n",
        "print(x)"
      ],
      "metadata": {
        "colab": {
          "base_uri": "https://localhost:8080/"
        },
        "id": "l81jEB_NPS6R",
        "outputId": "9af23237-d391-48ab-f00c-f4c25ff5c96e"
      },
      "execution_count": 70,
      "outputs": [
        {
          "output_type": "stream",
          "name": "stdout",
          "text": [
            "True\n"
          ]
        }
      ]
    },
    {
      "cell_type": "markdown",
      "source": [
        "# Logical Operators"
      ],
      "metadata": {
        "id": "L11mUE2fPozP"
      }
    },
    {
      "cell_type": "code",
      "source": [
        "height = 1.89\n",
        "print(height >= 1.80 and height < 1.90)"
      ],
      "metadata": {
        "colab": {
          "base_uri": "https://localhost:8080/"
        },
        "id": "KyHuf6oSP76i",
        "outputId": "eeb39d89-51b5-43f9-a54d-76c450b3ad5c"
      },
      "execution_count": 73,
      "outputs": [
        {
          "output_type": "stream",
          "name": "stdout",
          "text": [
            "True\n"
          ]
        }
      ]
    },
    {
      "cell_type": "code",
      "source": [
        "height = 1.95\n",
        "print(height >= 1.80 or height < 1.90)"
      ],
      "metadata": {
        "colab": {
          "base_uri": "https://localhost:8080/"
        },
        "id": "dDJDxa2MQfPM",
        "outputId": "aee7c6c7-c292-475f-a833-48fcd14ee5b2"
      },
      "execution_count": 74,
      "outputs": [
        {
          "output_type": "stream",
          "name": "stdout",
          "text": [
            "True\n"
          ]
        }
      ]
    },
    {
      "cell_type": "code",
      "source": [
        "print(height < 1.90)"
      ],
      "metadata": {
        "colab": {
          "base_uri": "https://localhost:8080/"
        },
        "id": "ceG2MVNsQ6Qp",
        "outputId": "987bfc25-4529-49fe-9208-bbff49643e71"
      },
      "execution_count": 75,
      "outputs": [
        {
          "output_type": "stream",
          "name": "stdout",
          "text": [
            "False\n"
          ]
        }
      ]
    },
    {
      "cell_type": "code",
      "source": [
        "print(not height < 1.90)"
      ],
      "metadata": {
        "colab": {
          "base_uri": "https://localhost:8080/"
        },
        "id": "X4wQGrNeQ_vk",
        "outputId": "3f8af65f-07cb-43af-a0df-308270920c1e"
      },
      "execution_count": 76,
      "outputs": [
        {
          "output_type": "stream",
          "name": "stdout",
          "text": [
            "True\n"
          ]
        }
      ]
    },
    {
      "cell_type": "markdown",
      "source": [
        "# If Statements"
      ],
      "metadata": {
        "id": "rwUl27TjRRcI"
      }
    },
    {
      "cell_type": "code",
      "source": [
        "temp = 2\n",
        "if temp > 30:\n",
        "  print(\"It's quite hot, today.\")\n",
        "  print(\"Drink lots of water.\")\n",
        "elif temp > 20:\n",
        "  print(\"It is a pleasant day.\")\n",
        "elif temp > 10:\n",
        "  print(\"It is a bit nippy.\")\n",
        "  print(\"Wear a sweater and coat.\")\n",
        "else:\n",
        "  print(\"It is cold, today.\")\n",
        "  print(\"Do you really want to go out?\")\n",
        "print(\"Goodbye.\")"
      ],
      "metadata": {
        "colab": {
          "base_uri": "https://localhost:8080/"
        },
        "id": "KNRsMIpORVOD",
        "outputId": "d7f0c4c8-e34b-47ca-a353-d07a095c8c3b"
      },
      "execution_count": 81,
      "outputs": [
        {
          "output_type": "stream",
          "name": "stdout",
          "text": [
            "It is cold, today.\n",
            "Do you really want to go out?\n",
            "Goodbye.\n"
          ]
        }
      ]
    },
    {
      "cell_type": "markdown",
      "source": [
        "# While Loops\n",
        "Used to repeat a block of code while some condition holds true."
      ],
      "metadata": {
        "id": "QA90YzKeclHn"
      }
    },
    {
      "cell_type": "code",
      "source": [
        "i = 1\n",
        "while i <= 5:\n",
        "  print(i)\n",
        "  i = i + 1"
      ],
      "metadata": {
        "colab": {
          "base_uri": "https://localhost:8080/"
        },
        "id": "QAC8Pdamczh2",
        "outputId": "2d6417b8-55b3-4da2-bbdb-37aae4ca5a44"
      },
      "execution_count": 82,
      "outputs": [
        {
          "output_type": "stream",
          "name": "stdout",
          "text": [
            "1\n",
            "2\n",
            "3\n",
            "4\n",
            "5\n"
          ]
        }
      ]
    },
    {
      "cell_type": "code",
      "source": [
        "i = 995\n",
        "while i <= 1_000: # Perhaps clearer way of writing 1000\n",
        "  print(i)\n",
        "  i = i + 2"
      ],
      "metadata": {
        "colab": {
          "base_uri": "https://localhost:8080/"
        },
        "id": "VCGSSvsPcn6r",
        "outputId": "2a71a68c-b325-4e42-9b44-3c5c4189cbdc"
      },
      "execution_count": 85,
      "outputs": [
        {
          "output_type": "stream",
          "name": "stdout",
          "text": [
            "995\n",
            "997\n",
            "999\n"
          ]
        }
      ]
    },
    {
      "cell_type": "code",
      "source": [
        "i = 1\n",
        "while i <= 5:\n",
        "  print(i * \"*\")\n",
        "  i = i + 1"
      ],
      "metadata": {
        "colab": {
          "base_uri": "https://localhost:8080/"
        },
        "id": "1jrVoAQCdtai",
        "outputId": "67a32750-76aa-43e2-8cbf-1b9a8f6a939f"
      },
      "execution_count": 87,
      "outputs": [
        {
          "output_type": "stream",
          "name": "stdout",
          "text": [
            "*\n",
            "**\n",
            "***\n",
            "****\n",
            "*****\n"
          ]
        }
      ]
    },
    {
      "cell_type": "markdown",
      "source": [
        "# Lists\n",
        "We have seen *primitive* data types: Booleans, numbers, and strings. There are also *complex* types. One of those is the list. I actually introduced one when discussing indices. Here, we'll say more about them."
      ],
      "metadata": {
        "id": "mOf9VEVBeN02"
      }
    },
    {
      "cell_type": "code",
      "source": [
        "names = [\"Adam\", \"Bob\", \"Christina\", \"Delia\"]\n",
        "print(names)"
      ],
      "metadata": {
        "colab": {
          "base_uri": "https://localhost:8080/"
        },
        "id": "t6DToN_re0dE",
        "outputId": "2c0a148b-7613-49d3-c596-78a6e35a3a3e"
      },
      "execution_count": 88,
      "outputs": [
        {
          "output_type": "stream",
          "name": "stdout",
          "text": [
            "['Adam', 'Bob', 'Christina', 'Delia']\n"
          ]
        }
      ]
    },
    {
      "cell_type": "code",
      "source": [
        "print(names[0])"
      ],
      "metadata": {
        "colab": {
          "base_uri": "https://localhost:8080/"
        },
        "id": "qdLriJIfe9tX",
        "outputId": "45f7ea51-c018-404f-8961-ec58afeb9755"
      },
      "execution_count": 89,
      "outputs": [
        {
          "output_type": "stream",
          "name": "stdout",
          "text": [
            "Adam\n"
          ]
        }
      ]
    },
    {
      "cell_type": "code",
      "source": [
        "print(names[-1]) # First element from end of list"
      ],
      "metadata": {
        "colab": {
          "base_uri": "https://localhost:8080/"
        },
        "id": "_vjVENNmfDb2",
        "outputId": "4fc49d8c-e2b1-4a51-d23d-b919ede93158"
      },
      "execution_count": 90,
      "outputs": [
        {
          "output_type": "stream",
          "name": "stdout",
          "text": [
            "Delia\n"
          ]
        }
      ]
    },
    {
      "cell_type": "code",
      "source": [
        "print(names[1:3]) # Notice the last index is not inclusive"
      ],
      "metadata": {
        "colab": {
          "base_uri": "https://localhost:8080/"
        },
        "id": "tq0D0d0hfUUG",
        "outputId": "728142b4-03a3-4e68-cdec-6f3174308304"
      },
      "execution_count": 93,
      "outputs": [
        {
          "output_type": "stream",
          "name": "stdout",
          "text": [
            "['Bob', 'Christina']\n"
          ]
        }
      ]
    },
    {
      "cell_type": "code",
      "source": [
        "# Lists can have multiple dimensions!\n",
        "matrix = [[1, 2, 3], [4, 5, 6], [7, 9, 9]]\n",
        "print(matrix)"
      ],
      "metadata": {
        "colab": {
          "base_uri": "https://localhost:8080/"
        },
        "id": "X3n-Ql2Vx1A8",
        "outputId": "9da1fe11-362f-4f24-d207-c0064a680e87"
      },
      "execution_count": 122,
      "outputs": [
        {
          "output_type": "stream",
          "name": "stdout",
          "text": [
            "[[1, 2, 3], [4, 5, 6], [7, 9, 9]]\n"
          ]
        }
      ]
    },
    {
      "cell_type": "code",
      "source": [
        "print(matrix[0])"
      ],
      "metadata": {
        "colab": {
          "base_uri": "https://localhost:8080/"
        },
        "id": "RofYtBBNyT4r",
        "outputId": "c11eb0a3-32b1-4402-b912-c6c1d75bea39"
      },
      "execution_count": 123,
      "outputs": [
        {
          "output_type": "stream",
          "name": "stdout",
          "text": [
            "[1, 2, 3]\n"
          ]
        }
      ]
    },
    {
      "cell_type": "code",
      "source": [
        "print(matrix[0][1])"
      ],
      "metadata": {
        "colab": {
          "base_uri": "https://localhost:8080/"
        },
        "id": "-QWv-lsFybr0",
        "outputId": "487dbd5c-89fb-456e-cfaf-eb00a114639c"
      },
      "execution_count": 124,
      "outputs": [
        {
          "output_type": "stream",
          "name": "stdout",
          "text": [
            "2\n"
          ]
        }
      ]
    },
    {
      "cell_type": "markdown",
      "source": [
        "# List Methods\n",
        "Like strings, lists are objects. They can be operated on, which makes for very powerful programming."
      ],
      "metadata": {
        "id": "Qkdu6ioYfpMG"
      }
    },
    {
      "cell_type": "code",
      "source": [
        "numbers = [1, 2, 3, 4, 5]\n",
        "numbers.append(6)\n",
        "print(numbers)"
      ],
      "metadata": {
        "colab": {
          "base_uri": "https://localhost:8080/"
        },
        "id": "FXzZvkOSgXc9",
        "outputId": "881615a1-6ce9-4ff9-d25d-e06887ee7df6"
      },
      "execution_count": 94,
      "outputs": [
        {
          "output_type": "stream",
          "name": "stdout",
          "text": [
            "[1, 2, 3, 4, 5, 6]\n"
          ]
        }
      ]
    },
    {
      "cell_type": "code",
      "source": [
        "numbers.insert(0,-1)\n",
        "print(numbers)"
      ],
      "metadata": {
        "colab": {
          "base_uri": "https://localhost:8080/"
        },
        "id": "ifUNheyjgm4v",
        "outputId": "270baf44-53a3-4fd0-b2c7-2a2cdc2f68d7"
      },
      "execution_count": 96,
      "outputs": [
        {
          "output_type": "stream",
          "name": "stdout",
          "text": [
            "[-1, -1, 1, 2, 3, 4, 5, 6]\n"
          ]
        }
      ]
    },
    {
      "cell_type": "code",
      "source": [
        "numbers.remove(-1)\n",
        "print(numbers)"
      ],
      "metadata": {
        "colab": {
          "base_uri": "https://localhost:8080/"
        },
        "id": "fCSCxEMbg-0Y",
        "outputId": "ad354cbb-5377-4c6d-845d-a96e80fefcc1"
      },
      "execution_count": 99,
      "outputs": [
        {
          "output_type": "stream",
          "name": "stdout",
          "text": [
            "[1, 2, 3, 4, 5, 6]\n"
          ]
        }
      ]
    },
    {
      "cell_type": "code",
      "source": [
        "numbers.clear()\n",
        "print(numbers)"
      ],
      "metadata": {
        "colab": {
          "base_uri": "https://localhost:8080/"
        },
        "id": "n_XknrB2hND-",
        "outputId": "14e5ac1b-1f3f-42b5-c5ec-912293336b3c"
      },
      "execution_count": 101,
      "outputs": [
        {
          "output_type": "stream",
          "name": "stdout",
          "text": [
            "False\n"
          ]
        }
      ]
    },
    {
      "cell_type": "code",
      "source": [
        "numbers = [1, 2, 3, 4, 5]\n",
        "print(1 in numbers)"
      ],
      "metadata": {
        "colab": {
          "base_uri": "https://localhost:8080/"
        },
        "id": "v3OgONd-hX_-",
        "outputId": "b597466a-77de-439c-c61f-49fd897d2e27"
      },
      "execution_count": 102,
      "outputs": [
        {
          "output_type": "stream",
          "name": "stdout",
          "text": [
            "True\n"
          ]
        }
      ]
    },
    {
      "cell_type": "code",
      "source": [
        "print(len(numbers))"
      ],
      "metadata": {
        "colab": {
          "base_uri": "https://localhost:8080/"
        },
        "id": "AoTDCOIUhwF3",
        "outputId": "db612188-8df4-48d6-bc91-dba0230f552c"
      },
      "execution_count": 103,
      "outputs": [
        {
          "output_type": "stream",
          "name": "stdout",
          "text": [
            "5\n"
          ]
        }
      ]
    },
    {
      "cell_type": "markdown",
      "source": [
        "# For Loops\n",
        "We look at simple and nested loops."
      ],
      "metadata": {
        "id": "8auB-NhaiByS"
      }
    },
    {
      "cell_type": "code",
      "source": [
        "numbers = [1, 2, 3, 4, 5]\n",
        "for item in numbers:\n",
        "  print(item)"
      ],
      "metadata": {
        "colab": {
          "base_uri": "https://localhost:8080/"
        },
        "id": "gYfVjW8jiGOA",
        "outputId": "ede8ff54-376e-42cf-c67b-d05831a81b10"
      },
      "execution_count": 104,
      "outputs": [
        {
          "output_type": "stream",
          "name": "stdout",
          "text": [
            "1\n",
            "2\n",
            "3\n",
            "4\n",
            "5\n"
          ]
        }
      ]
    },
    {
      "cell_type": "code",
      "source": [
        "# Alternative but less efficient code using while loop\n",
        "i = 0\n",
        "while i < len(numbers):\n",
        "  print(numbers[i])\n",
        "  i = i + 1"
      ],
      "metadata": {
        "colab": {
          "base_uri": "https://localhost:8080/"
        },
        "id": "WgvS0DRviiHL",
        "outputId": "b0671fc9-4f2d-4600-9331-c0b034acabb8"
      },
      "execution_count": 106,
      "outputs": [
        {
          "output_type": "stream",
          "name": "stdout",
          "text": [
            "1\n",
            "2\n",
            "3\n",
            "4\n",
            "5\n"
          ]
        }
      ]
    },
    {
      "cell_type": "code",
      "source": [
        "# Imagine we want a list of coordinates. Then,\n",
        "x = [1, 2, 3, 4]\n",
        "y = [1, 2, 3, 4]\n",
        "for pos1 in x:\n",
        "  for pos2 in y:\n",
        "    print(f'({pos1},{pos2})')"
      ],
      "metadata": {
        "colab": {
          "base_uri": "https://localhost:8080/"
        },
        "id": "KvshHK_OwncP",
        "outputId": "fe76f0d2-c700-4d6c-912c-c1b4fa4eb002"
      },
      "execution_count": 121,
      "outputs": [
        {
          "output_type": "stream",
          "name": "stdout",
          "text": [
            "(1,1)\n",
            "(1,2)\n",
            "(1,3)\n",
            "(1,4)\n",
            "(2,1)\n",
            "(2,2)\n",
            "(2,3)\n",
            "(2,4)\n",
            "(3,1)\n",
            "(3,2)\n",
            "(3,3)\n",
            "(3,4)\n",
            "(4,1)\n",
            "(4,2)\n",
            "(4,3)\n",
            "(4,4)\n"
          ]
        }
      ]
    },
    {
      "cell_type": "markdown",
      "source": [
        "# The Range Function\n",
        "Used to generate a sequence of numbers."
      ],
      "metadata": {
        "id": "jwWU5SlzjGFX"
      }
    },
    {
      "cell_type": "code",
      "source": [
        "numbers = range(5)\n",
        "print(numbers)"
      ],
      "metadata": {
        "colab": {
          "base_uri": "https://localhost:8080/"
        },
        "id": "gvG8ZQNjjBcq",
        "outputId": "5b866e71-3690-4b61-ca2c-e359e6d55dbd"
      },
      "execution_count": 107,
      "outputs": [
        {
          "output_type": "stream",
          "name": "stdout",
          "text": [
            "range(0, 5)\n"
          ]
        }
      ]
    },
    {
      "cell_type": "code",
      "source": [
        "for number in numbers:\n",
        "  print(number)"
      ],
      "metadata": {
        "colab": {
          "base_uri": "https://localhost:8080/"
        },
        "id": "Tgy63JqgkFkH",
        "outputId": "9c106f06-ef2b-4a5b-b431-5f4f7dae8989"
      },
      "execution_count": 108,
      "outputs": [
        {
          "output_type": "stream",
          "name": "stdout",
          "text": [
            "0\n",
            "1\n",
            "2\n",
            "3\n",
            "4\n"
          ]
        }
      ]
    },
    {
      "cell_type": "code",
      "source": [],
      "metadata": {
        "id": "_MHJX1Mikdtk"
      },
      "execution_count": null,
      "outputs": []
    },
    {
      "cell_type": "code",
      "source": [
        "numbers = range(1, 10) # Again note exclusion of the last value.\n",
        "for number in numbers:\n",
        "  print(number)"
      ],
      "metadata": {
        "colab": {
          "base_uri": "https://localhost:8080/"
        },
        "id": "IaytqrOXkPMM",
        "outputId": "88ca2021-410d-4e9f-8f63-77e6bb93337e"
      },
      "execution_count": 109,
      "outputs": [
        {
          "output_type": "stream",
          "name": "stdout",
          "text": [
            "1\n",
            "2\n",
            "3\n",
            "4\n",
            "5\n",
            "6\n",
            "7\n",
            "8\n",
            "9\n"
          ]
        }
      ]
    },
    {
      "cell_type": "code",
      "source": [
        "numbers = range(1, 10, 2)\n",
        "for number in numbers:\n",
        "  print(number)"
      ],
      "metadata": {
        "colab": {
          "base_uri": "https://localhost:8080/"
        },
        "id": "NNXiagAakedy",
        "outputId": "5f0dc7a4-a3de-4779-9e2a-e373d76c20f3"
      },
      "execution_count": 110,
      "outputs": [
        {
          "output_type": "stream",
          "name": "stdout",
          "text": [
            "1\n",
            "3\n",
            "5\n",
            "7\n",
            "9\n"
          ]
        }
      ]
    },
    {
      "cell_type": "code",
      "source": [
        "# Quite frequently, we do not need to store the range.\n",
        "for number in range(5):\n",
        "  print(number)"
      ],
      "metadata": {
        "colab": {
          "base_uri": "https://localhost:8080/"
        },
        "id": "RiJmnPP2kxgo",
        "outputId": "3e19d3f2-caa6-4340-d8bc-96f00c3c9db3"
      },
      "execution_count": 111,
      "outputs": [
        {
          "output_type": "stream",
          "name": "stdout",
          "text": [
            "0\n",
            "1\n",
            "2\n",
            "3\n",
            "4\n"
          ]
        }
      ]
    },
    {
      "cell_type": "markdown",
      "source": [
        "# List Comprehension\n",
        "List comprehension is often an alternative to for loops that does not only involve less code, but also executes faster."
      ],
      "metadata": {
        "id": "a3L_ea1uiLYn"
      }
    },
    {
      "cell_type": "code",
      "source": [
        "fruits = [\"apple\", \"banana\", \"cherry\", \"pear\", \"fig\"]\n",
        "newlist = []\n",
        "for item in fruits:\n",
        "  if \"a\" in item:\n",
        "    newlist.append(item)\n",
        "\n",
        "print(newlist)"
      ],
      "metadata": {
        "colab": {
          "base_uri": "https://localhost:8080/"
        },
        "id": "fPwrQneOiO2y",
        "outputId": "f9b73fb7-a146-4632-a274-cc7f8ff7f335"
      },
      "execution_count": 158,
      "outputs": [
        {
          "output_type": "stream",
          "name": "stdout",
          "text": [
            "['apple', 'banana', 'pear']\n"
          ]
        }
      ]
    },
    {
      "cell_type": "code",
      "source": [
        "fruits = [\"apple\", \"banana\", \"cherry\", \"pear\", \"fig\"]\n",
        "newlist = [item for item in fruits if \"a\" in item]\n",
        "print(newlist)"
      ],
      "metadata": {
        "colab": {
          "base_uri": "https://localhost:8080/"
        },
        "id": "QVZUavlkjA6J",
        "outputId": "934bf762-07b2-4d56-aa22-73bcc4860847"
      },
      "execution_count": 159,
      "outputs": [
        {
          "output_type": "stream",
          "name": "stdout",
          "text": [
            "['apple', 'banana', 'pear']\n"
          ]
        }
      ]
    },
    {
      "cell_type": "markdown",
      "source": [
        "# Tuples\n",
        "These are immutable lists. Useful when you do not want to touch a list at all.\n"
      ],
      "metadata": {
        "id": "TGNUlPoylHK_"
      }
    },
    {
      "cell_type": "code",
      "source": [
        "numbers = (1, 1, 2, 3) # Note the round instead of square brackets\n",
        "numbers.count(1)"
      ],
      "metadata": {
        "colab": {
          "base_uri": "https://localhost:8080/"
        },
        "id": "njLe2nqLlPzG",
        "outputId": "281f03a9-104a-4b3d-8db7-ca06cb372470"
      },
      "execution_count": 113,
      "outputs": [
        {
          "output_type": "execute_result",
          "data": {
            "text/plain": [
              "2"
            ]
          },
          "metadata": {},
          "execution_count": 113
        }
      ]
    },
    {
      "cell_type": "code",
      "source": [
        "numbers.index(3)"
      ],
      "metadata": {
        "colab": {
          "base_uri": "https://localhost:8080/"
        },
        "id": "e2m1ohnKlja0",
        "outputId": "1dfae6ff-cae6-4520-a5fc-275e4c4b8b1a"
      },
      "execution_count": 114,
      "outputs": [
        {
          "output_type": "execute_result",
          "data": {
            "text/plain": [
              "3"
            ]
          },
          "metadata": {},
          "execution_count": 114
        }
      ]
    },
    {
      "cell_type": "markdown",
      "source": [
        "# Unpacking\n",
        "Imagine we want to use values of a tuple or list in different places. Then we can unpack the tuple."
      ],
      "metadata": {
        "id": "wxCKVUVTy0KJ"
      }
    },
    {
      "cell_type": "code",
      "source": [
        "# Clunky\n",
        "coordinates = (1, 2, 3)\n",
        "coordinates[0] * coordinates[1] * coordinates[2]"
      ],
      "metadata": {
        "colab": {
          "base_uri": "https://localhost:8080/"
        },
        "id": "-xfPfyzyy6Rl",
        "outputId": "5cecd5c1-18ad-45a9-bafc-ca3bd5ad7d5c"
      },
      "execution_count": 125,
      "outputs": [
        {
          "output_type": "execute_result",
          "data": {
            "text/plain": [
              "6"
            ]
          },
          "metadata": {},
          "execution_count": 125
        }
      ]
    },
    {
      "cell_type": "code",
      "source": [
        "# Simpler already\n",
        "x = coordinates[0]\n",
        "y = coordinates[1]\n",
        "z = coordinates[2]\n",
        "x * y * z"
      ],
      "metadata": {
        "colab": {
          "base_uri": "https://localhost:8080/"
        },
        "id": "AVlKAbSZzX4S",
        "outputId": "60969d3a-9809-484d-ccff-e423c71c0087"
      },
      "execution_count": 126,
      "outputs": [
        {
          "output_type": "execute_result",
          "data": {
            "text/plain": [
              "6"
            ]
          },
          "metadata": {},
          "execution_count": 126
        }
      ]
    },
    {
      "cell_type": "code",
      "source": [
        "# Much better still:\n",
        "x, y, z = coordinates\n",
        "x * y * z"
      ],
      "metadata": {
        "colab": {
          "base_uri": "https://localhost:8080/"
        },
        "id": "xrfESR4xzlpM",
        "outputId": "74e38642-0e64-4536-c741-adef688d8f80"
      },
      "execution_count": 127,
      "outputs": [
        {
          "output_type": "execute_result",
          "data": {
            "text/plain": [
              "6"
            ]
          },
          "metadata": {},
          "execution_count": 127
        }
      ]
    },
    {
      "cell_type": "markdown",
      "source": [
        "# Sets\n",
        "Another way of grouping data is to generate a set. But sets cannot contain two items with the same value, which limits their use."
      ],
      "metadata": {
        "id": "wGip61vQX_Ju"
      }
    },
    {
      "cell_type": "code",
      "source": [
        "myset = {\"Apple\", \"Banana\", \"Cherry\"}\n",
        "mylist = [\"Kiwi\", \"Orange\"]\n",
        "myset.update(mylist)\n",
        "print(myset)"
      ],
      "metadata": {
        "colab": {
          "base_uri": "https://localhost:8080/"
        },
        "id": "MR69_aIfYVAY",
        "outputId": "a93ef227-74f2-44ed-92a8-c4bd90e84c36"
      },
      "execution_count": 154,
      "outputs": [
        {
          "output_type": "stream",
          "name": "stdout",
          "text": [
            "{'Kiwi', 'Orange', 'Banana', 'Apple', 'Cherry'}\n"
          ]
        }
      ]
    },
    {
      "cell_type": "markdown",
      "source": [
        "# Dictionaries\n",
        "Used for key-value pairs, e.g., Name: John Smith; Email: mrjohn@gmail.com, etc."
      ],
      "metadata": {
        "id": "lN806mZaz8uv"
      }
    },
    {
      "cell_type": "code",
      "source": [
        "customer = {\n",
        "    \"name\": \"John Smith\",\n",
        "    \"email\": \"mrjohn@gmail.com\",\n",
        "    \"age\": 52,\n",
        "    \"is_married\": True\n",
        "}\n",
        "customer[\"name\"]"
      ],
      "metadata": {
        "colab": {
          "base_uri": "https://localhost:8080/",
          "height": 35
        },
        "id": "1i8AJUEr0T3-",
        "outputId": "162caa97-a176-489f-fa7f-73f8a06c57f1"
      },
      "execution_count": 128,
      "outputs": [
        {
          "output_type": "execute_result",
          "data": {
            "text/plain": [
              "'John Smith'"
            ],
            "application/vnd.google.colaboratory.intrinsic+json": {
              "type": "string"
            }
          },
          "metadata": {},
          "execution_count": 128
        }
      ]
    },
    {
      "cell_type": "code",
      "source": [
        "# This is problematic when we use a mis-spelled or non-existing key.\n",
        "# Better\n",
        "print(customer.get(\"name\"))"
      ],
      "metadata": {
        "colab": {
          "base_uri": "https://localhost:8080/"
        },
        "id": "cxzPJk8z1DL1",
        "outputId": "85b504dd-8e3e-4aa4-bdb6-a1b406729df5"
      },
      "execution_count": 129,
      "outputs": [
        {
          "output_type": "stream",
          "name": "stdout",
          "text": [
            "John Smith\n"
          ]
        }
      ]
    },
    {
      "cell_type": "code",
      "source": [
        "print(customer.get(\"phone\"))"
      ],
      "metadata": {
        "colab": {
          "base_uri": "https://localhost:8080/"
        },
        "id": "N8LPVfkh1RiL",
        "outputId": "9c794e51-81a2-4d7a-9f0a-ed23cf4618e9"
      },
      "execution_count": 130,
      "outputs": [
        {
          "output_type": "stream",
          "name": "stdout",
          "text": [
            "None\n"
          ]
        }
      ]
    },
    {
      "cell_type": "code",
      "source": [
        "# We can add a default value\n",
        "print(customer.get(\"phone\", \"XXX-XXXX\"))"
      ],
      "metadata": {
        "colab": {
          "base_uri": "https://localhost:8080/"
        },
        "id": "viIrz4wt1e8t",
        "outputId": "74f61286-604d-4049-d17a-59071ca9c1fd"
      },
      "execution_count": 131,
      "outputs": [
        {
          "output_type": "stream",
          "name": "stdout",
          "text": [
            "XXX-XXXX\n"
          ]
        }
      ]
    },
    {
      "cell_type": "markdown",
      "source": [
        "# Functions and Parameters\n",
        "This is not essential for this course, but makes for better programming."
      ],
      "metadata": {
        "id": "UmGWXBMJIDoL"
      }
    },
    {
      "cell_type": "code",
      "source": [
        "# Best practice is to have two blank lines after def\n",
        "def greet_user():\n",
        "  print(\"Hi there.\")\n",
        "  print(\"Welcome aboard.\")\n",
        "\n",
        "\n",
        "print(\"Start\")\n",
        "greet_user()\n",
        "print(\"Finish\")\n"
      ],
      "metadata": {
        "colab": {
          "base_uri": "https://localhost:8080/"
        },
        "id": "Edt71QWEIK1A",
        "outputId": "cb7f896e-bda4-4b85-9f13-e3d247f5f506"
      },
      "execution_count": 133,
      "outputs": [
        {
          "output_type": "stream",
          "name": "stdout",
          "text": [
            "Start\n",
            "Hi there.\n",
            "Welcome on board.\n",
            "Finish\n"
          ]
        }
      ]
    },
    {
      "cell_type": "code",
      "source": [
        "def greet_user(name):\n",
        "  print(f\"Hi {name}.\")\n",
        "  print(\"Welcome aboard.\")\n",
        "\n",
        "\n",
        "greet_user(\"Carlos\")"
      ],
      "metadata": {
        "colab": {
          "base_uri": "https://localhost:8080/"
        },
        "id": "bzaqsVePJUHA",
        "outputId": "825fea46-b80d-426a-f223-381246717743"
      },
      "execution_count": 134,
      "outputs": [
        {
          "output_type": "stream",
          "name": "stdout",
          "text": [
            "Hi Carlos.\n",
            "Welcome aboard.\n"
          ]
        }
      ]
    },
    {
      "cell_type": "code",
      "source": [
        "def greet_user(first_name, last_name):\n",
        "  print(f\"Hi {first_name} {last_name}.\")\n",
        "  print(\"Welcome aboard.\")\n",
        "\n",
        "\n",
        "greet_user(\"Carlos\", \"Santana\")"
      ],
      "metadata": {
        "colab": {
          "base_uri": "https://localhost:8080/"
        },
        "id": "zkfdXJYIKGRB",
        "outputId": "fc4eaf62-af88-43dd-c29c-f6f8652d1f31"
      },
      "execution_count": 135,
      "outputs": [
        {
          "output_type": "stream",
          "name": "stdout",
          "text": [
            "Hi Carlos Santana.\n",
            "Welcome aboard.\n"
          ]
        }
      ]
    },
    {
      "cell_type": "code",
      "source": [
        "# Order matters because of positional arguments\n",
        "greet_user(\"Brown\", \"Gordon\")"
      ],
      "metadata": {
        "colab": {
          "base_uri": "https://localhost:8080/"
        },
        "id": "h0R7RZfTLHUt",
        "outputId": "aee524b5-0efd-495c-d4b1-60d2bc27053a"
      },
      "execution_count": 136,
      "outputs": [
        {
          "output_type": "stream",
          "name": "stdout",
          "text": [
            "Hi Brown Gordon.\n",
            "Welcome aboard.\n"
          ]
        }
      ]
    },
    {
      "cell_type": "code",
      "source": [
        "# But not if we use keyword arguments\n",
        "greet_user(last_name = \"Brown\", first_name = \"Gordon\")"
      ],
      "metadata": {
        "colab": {
          "base_uri": "https://localhost:8080/"
        },
        "id": "rlsmyJqVLk7z",
        "outputId": "13350b01-d06e-4be4-d5d8-6c44a7972d5d"
      },
      "execution_count": 138,
      "outputs": [
        {
          "output_type": "stream",
          "name": "stdout",
          "text": [
            "Hi Gordon Brown.\n",
            "Welcome aboard.\n"
          ]
        }
      ]
    },
    {
      "cell_type": "code",
      "source": [
        "# If mixing positional and keyword arguments, then put positionals first\n",
        "greet_user(\"John\", last_name = \"Smith\")"
      ],
      "metadata": {
        "colab": {
          "base_uri": "https://localhost:8080/"
        },
        "id": "sBnGp8eCMZpC",
        "outputId": "bbc7967d-330c-4175-fab1-08858beb5e6f"
      },
      "execution_count": 140,
      "outputs": [
        {
          "output_type": "stream",
          "name": "stdout",
          "text": [
            "Hi John Smith.\n",
            "Welcome aboard.\n"
          ]
        }
      ]
    },
    {
      "cell_type": "code",
      "source": [
        "# Return statements return values\n",
        "# Note: By default functions return None, unless you use return.\n",
        "def square(number):\n",
        "  return number * number\n",
        "\n",
        "\n",
        "square(3)"
      ],
      "metadata": {
        "colab": {
          "base_uri": "https://localhost:8080/"
        },
        "id": "EczDXccIM77b",
        "outputId": "b038070e-5103-4770-cb2c-27a4b46ac6e1"
      },
      "execution_count": 141,
      "outputs": [
        {
          "output_type": "execute_result",
          "data": {
            "text/plain": [
              "9"
            ]
          },
          "metadata": {},
          "execution_count": 141
        }
      ]
    },
    {
      "cell_type": "markdown",
      "source": [
        "# Handling Errors\n",
        "Exit code 0 means the program ran well. But we may get errors---exit code 1---when, for instance, someone entered the wrong variable type for a function. Exception calls allow us to prevent program crashes when this happens."
      ],
      "metadata": {
        "id": "0nPvrq7uPbh5"
      }
    },
    {
      "cell_type": "code",
      "source": [
        "try:\n",
        "  age = int(input(\"Age: \"))\n",
        "  print(age)\n",
        "except ValueError:\n",
        "  print(\"Invalid value. Please use numeric age.\")"
      ],
      "metadata": {
        "colab": {
          "base_uri": "https://localhost:8080/"
        },
        "id": "9scr6q6uPe8y",
        "outputId": "e69bdb29-44ad-48d0-86eb-69afb36e59fd"
      },
      "execution_count": 144,
      "outputs": [
        {
          "output_type": "stream",
          "name": "stdout",
          "text": [
            "Age: Twenty\n",
            "Invalid value. Please use numeric age.\n"
          ]
        }
      ]
    },
    {
      "cell_type": "markdown",
      "source": [
        "# Classes and Constructors\n",
        "Complex concepts may require us to define classes with appropriate methods."
      ],
      "metadata": {
        "id": "BtwNNePBRXhx"
      }
    },
    {
      "cell_type": "code",
      "source": [
        "# Pascal naming convention:\n",
        "# Functions and variables in lower-case. Classes with a capital on each word.\n",
        "# Words are contracted (e.g., NewClass) as opposed to separated by an\n",
        "# underscore (e.g., bad_ass_function).\n",
        "class Point:\n",
        "  def move(self):\n",
        "    print(\"move\")\n",
        "\n",
        "  def draw(self):\n",
        "    print(\"draw\")\n",
        "\n",
        "\n",
        "point1 = Point()\n",
        "point1.x = 10\n",
        "point1.y = 20\n",
        "point1.draw()\n",
        "print(point1.x)"
      ],
      "metadata": {
        "colab": {
          "base_uri": "https://localhost:8080/"
        },
        "id": "oghr6nQVR-FF",
        "outputId": "2ffb14aa-7513-4b78-c767-62f7cf6ad12a"
      },
      "execution_count": 147,
      "outputs": [
        {
          "output_type": "stream",
          "name": "stdout",
          "text": [
            "draw\n",
            "10\n"
          ]
        }
      ]
    },
    {
      "cell_type": "code",
      "source": [
        "# We want to ensure that the point class has coordinates.\n",
        "# We use a constructor to assign those coordinates.\n",
        "class Point:\n",
        "  def __init__(self, x, y):\n",
        "    self.x = x\n",
        "    self.y = y\n",
        "\n",
        "  def move(self):\n",
        "    print(\"move\")\n",
        "\n",
        "  def draw(self):\n",
        "    print(\"draw\")\n",
        "\n",
        "\n",
        "point = Point(10, 20)\n",
        "print(point.y)"
      ],
      "metadata": {
        "colab": {
          "base_uri": "https://localhost:8080/"
        },
        "id": "w9M5admDTmBs",
        "outputId": "ffa0546f-2c77-4a16-db35-599795b866ed"
      },
      "execution_count": 148,
      "outputs": [
        {
          "output_type": "stream",
          "name": "stdout",
          "text": [
            "20\n"
          ]
        }
      ]
    },
    {
      "cell_type": "code",
      "source": [
        "# Inheritance prevents duplicating code. An example of bad coding:\n",
        "class Dog:\n",
        "  def walk(self):\n",
        "    print(\"Walk\")\n",
        "\n",
        "\n",
        "class Cat:\n",
        "    def walk(self):\n",
        "      print(\"Walk\")"
      ],
      "metadata": {
        "id": "kRvHso8CVsDi"
      },
      "execution_count": null,
      "outputs": []
    },
    {
      "cell_type": "code",
      "source": [
        "# Better. Note, pass is used not to have empty input for a class.\n",
        "class Mammal:\n",
        "  def walk(self):\n",
        "    print(\"Walk\")\n",
        "\n",
        "\n",
        "class Dog(Mammal):\n",
        "  pass\n",
        "\n",
        "\n",
        "class Cat(Mammal):\n",
        "  pass\n",
        "\n",
        "\n",
        "dog1 = Dog()\n",
        "dog1.walk()\n"
      ],
      "metadata": {
        "colab": {
          "base_uri": "https://localhost:8080/"
        },
        "id": "eWQO2fU-WJLG",
        "outputId": "bca90b8b-0698-45e3-e122-4844ab7ce96b"
      },
      "execution_count": 150,
      "outputs": [
        {
          "output_type": "stream",
          "name": "stdout",
          "text": [
            "Walk\n"
          ]
        }
      ]
    },
    {
      "cell_type": "markdown",
      "source": [
        "# Using Modules"
      ],
      "metadata": {
        "id": "bVViqEsnwAe_"
      }
    },
    {
      "cell_type": "code",
      "source": [
        "import math\n",
        "math.ceil(2.9)"
      ],
      "metadata": {
        "colab": {
          "base_uri": "https://localhost:8080/"
        },
        "id": "wBpq7EqAwD_Q",
        "outputId": "bbdffdd5-585a-4692-b150-c20f590943a3"
      },
      "execution_count": 118,
      "outputs": [
        {
          "output_type": "execute_result",
          "data": {
            "text/plain": [
              "3"
            ]
          },
          "metadata": {},
          "execution_count": 118
        }
      ]
    },
    {
      "cell_type": "code",
      "source": [
        "math.floor(2.9)"
      ],
      "metadata": {
        "colab": {
          "base_uri": "https://localhost:8080/"
        },
        "id": "2vH4B8-owPem",
        "outputId": "2584b3ab-ff38-46e7-ce5d-40cd4a11f6b5"
      },
      "execution_count": 119,
      "outputs": [
        {
          "output_type": "execute_result",
          "data": {
            "text/plain": [
              "2"
            ]
          },
          "metadata": {},
          "execution_count": 119
        }
      ]
    },
    {
      "cell_type": "code",
      "source": [
        "math.factorial(3)"
      ],
      "metadata": {
        "colab": {
          "base_uri": "https://localhost:8080/"
        },
        "id": "96suGIk1wbRb",
        "outputId": "665785c2-7afc-4820-a47a-bdbb29ab8c5f"
      },
      "execution_count": 120,
      "outputs": [
        {
          "output_type": "execute_result",
          "data": {
            "text/plain": [
              "6"
            ]
          },
          "metadata": {},
          "execution_count": 120
        }
      ]
    }
  ]
}